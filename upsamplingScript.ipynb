import fiona
import shapely
from shapely.geometry import Point, LineString
from shapely.ops import unary_union
import geopandas as gpd
import pandas as pd
import numpy as np
import matplotlib.pyplot as plt

data = pd.read_excel(r"D:\CEGIS PROJECT\DWASA_masterplan_meghna\data\Hydrology Wasa\rawdata\WL74.xlsx", sheet_name=1)


