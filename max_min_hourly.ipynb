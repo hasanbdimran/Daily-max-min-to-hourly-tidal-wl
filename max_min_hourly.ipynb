{
 "cells": [
  {
   "cell_type": "code",
   "execution_count": 1,
   "metadata": {},
   "outputs": [],
   "source": [
    "import fiona\n",
    "import shapely\n",
    "from shapely.geometry import Point, LineString\n",
    "from shapely.ops import unary_union\n",
    "import geopandas as gpd\n",
    "import pandas as pd\n",
    "import numpy as np\n",
    "import matplotlib.pyplot as plt\n",
    "#shapely.speedups.disable()"
   ]
  },
  {
   "cell_type": "markdown",
   "metadata": {},
   "source": [
    "## Hourly tidal data generation from max min value"
   ]
  },
  {
   "cell_type": "code",
   "execution_count": 2,
   "metadata": {},
   "outputs": [],
   "source": [
    "data = pd.read_excel(r\"D:\\CEGIS PROJECT\\DWASA_masterplan_meghna\\data\\Hydrology Wasa\\rawdata\\WL74.xlsx\", sheet_name=1)"
   ]
  },
  {
   "cell_type": "code",
   "execution_count": 3,
   "metadata": {},
   "outputs": [
    {
     "data": {
      "text/html": [
       "<div>\n",
       "<style scoped>\n",
       "    .dataframe tbody tr th:only-of-type {\n",
       "        vertical-align: middle;\n",
       "    }\n",
       "\n",
       "    .dataframe tbody tr th {\n",
       "        vertical-align: top;\n",
       "    }\n",
       "\n",
       "    .dataframe thead th {\n",
       "        text-align: right;\n",
       "    }\n",
       "</style>\n",
       "<table border=\"1\" class=\"dataframe\">\n",
       "  <thead>\n",
       "    <tr style=\"text-align: right;\">\n",
       "      <th></th>\n",
       "      <th>STATIONID</th>\n",
       "      <th>DATETIME</th>\n",
       "      <th>High</th>\n",
       "      <th>Low</th>\n",
       "    </tr>\n",
       "  </thead>\n",
       "  <tbody>\n",
       "    <tr>\n",
       "      <th>0</th>\n",
       "      <td>74</td>\n",
       "      <td>2018-01-01</td>\n",
       "      <td>2.40</td>\n",
       "      <td>2.11</td>\n",
       "    </tr>\n",
       "    <tr>\n",
       "      <th>1</th>\n",
       "      <td>74</td>\n",
       "      <td>2018-01-02</td>\n",
       "      <td>2.45</td>\n",
       "      <td>2.10</td>\n",
       "    </tr>\n",
       "    <tr>\n",
       "      <th>2</th>\n",
       "      <td>74</td>\n",
       "      <td>2018-01-03</td>\n",
       "      <td>2.46</td>\n",
       "      <td>2.10</td>\n",
       "    </tr>\n",
       "    <tr>\n",
       "      <th>3</th>\n",
       "      <td>74</td>\n",
       "      <td>2018-01-04</td>\n",
       "      <td>2.49</td>\n",
       "      <td>2.08</td>\n",
       "    </tr>\n",
       "    <tr>\n",
       "      <th>4</th>\n",
       "      <td>74</td>\n",
       "      <td>2018-01-05</td>\n",
       "      <td>2.49</td>\n",
       "      <td>2.08</td>\n",
       "    </tr>\n",
       "  </tbody>\n",
       "</table>\n",
       "</div>"
      ],
      "text/plain": [
       "   STATIONID   DATETIME  High   Low\n",
       "0         74 2018-01-01  2.40  2.11\n",
       "1         74 2018-01-02  2.45  2.10\n",
       "2         74 2018-01-03  2.46  2.10\n",
       "3         74 2018-01-04  2.49  2.08\n",
       "4         74 2018-01-05  2.49  2.08"
      ]
     },
     "execution_count": 3,
     "metadata": {},
     "output_type": "execute_result"
    }
   ],
   "source": [
    "data.head()"
   ]
  },
  {
   "cell_type": "code",
   "execution_count": 4,
   "metadata": {},
   "outputs": [],
   "source": [
    "data['Hour'] = data.apply(lambda x: x['DATETIME'].hour, axis=1)\n",
    "data['Month'] = data.apply(lambda x: x['DATETIME'].month, axis=1)\n",
    "data['Day'] = data.apply(lambda x: x['DATETIME'].day, axis=1)"
   ]
  },
  {
   "cell_type": "code",
   "execution_count": 5,
   "metadata": {},
   "outputs": [],
   "source": [
    "data_flt = data.copy()#data[data['Year']==2020].copy().sort_values(by='DATETIME').copy()"
   ]
  },
  {
   "cell_type": "markdown",
   "metadata": {},
   "source": [
    "### Filling empty cells with previous year data"
   ]
  },
  {
   "cell_type": "code",
   "execution_count": 6,
   "metadata": {},
   "outputs": [],
   "source": [
    "#data[data['Year']==2019]"
   ]
  },
  {
   "cell_type": "code",
   "execution_count": 13,
   "metadata": {},
   "outputs": [],
   "source": [
    "for idx,row in data_flt[np.isnan(data_flt['High'])].iterrows():\n",
    "    dts = data[(data['Year']==2018) & (data['Month']==row['Month']) & (data['Day']==row['Day'])]\n",
    "    print(row['Month'],row['Day'], dts['High'].to_list()[0], dts['Low'].to_list()[0])\n",
    "    data_flt.loc[idx,'High'] = dts['High'].to_list()[0]\n",
    "    data_flt.loc[idx,'Low'] = dts['Low'].to_list()[0]"
   ]
  },
  {
   "cell_type": "code",
   "execution_count": 8,
   "metadata": {},
   "outputs": [],
   "source": [
    "#df.sort_values(by='col1', ascending=False)"
   ]
  },
  {
   "cell_type": "code",
   "execution_count": 14,
   "metadata": {},
   "outputs": [
    {
     "data": {
      "text/html": [
       "<div>\n",
       "<style scoped>\n",
       "    .dataframe tbody tr th:only-of-type {\n",
       "        vertical-align: middle;\n",
       "    }\n",
       "\n",
       "    .dataframe tbody tr th {\n",
       "        vertical-align: top;\n",
       "    }\n",
       "\n",
       "    .dataframe thead th {\n",
       "        text-align: right;\n",
       "    }\n",
       "</style>\n",
       "<table border=\"1\" class=\"dataframe\">\n",
       "  <thead>\n",
       "    <tr style=\"text-align: right;\">\n",
       "      <th></th>\n",
       "      <th>STATIONID</th>\n",
       "      <th>DATETIME</th>\n",
       "      <th>High</th>\n",
       "      <th>Low</th>\n",
       "      <th>Hour</th>\n",
       "      <th>Month</th>\n",
       "      <th>Day</th>\n",
       "    </tr>\n",
       "  </thead>\n",
       "  <tbody>\n",
       "    <tr>\n",
       "      <th>0</th>\n",
       "      <td>74</td>\n",
       "      <td>2018-01-01</td>\n",
       "      <td>2.40</td>\n",
       "      <td>2.11</td>\n",
       "      <td>0</td>\n",
       "      <td>1</td>\n",
       "      <td>1</td>\n",
       "    </tr>\n",
       "    <tr>\n",
       "      <th>1</th>\n",
       "      <td>74</td>\n",
       "      <td>2018-01-02</td>\n",
       "      <td>2.45</td>\n",
       "      <td>2.10</td>\n",
       "      <td>0</td>\n",
       "      <td>1</td>\n",
       "      <td>2</td>\n",
       "    </tr>\n",
       "    <tr>\n",
       "      <th>2</th>\n",
       "      <td>74</td>\n",
       "      <td>2018-01-03</td>\n",
       "      <td>2.46</td>\n",
       "      <td>2.10</td>\n",
       "      <td>0</td>\n",
       "      <td>1</td>\n",
       "      <td>3</td>\n",
       "    </tr>\n",
       "    <tr>\n",
       "      <th>3</th>\n",
       "      <td>74</td>\n",
       "      <td>2018-01-04</td>\n",
       "      <td>2.49</td>\n",
       "      <td>2.08</td>\n",
       "      <td>0</td>\n",
       "      <td>1</td>\n",
       "      <td>4</td>\n",
       "    </tr>\n",
       "    <tr>\n",
       "      <th>4</th>\n",
       "      <td>74</td>\n",
       "      <td>2018-01-05</td>\n",
       "      <td>2.49</td>\n",
       "      <td>2.08</td>\n",
       "      <td>0</td>\n",
       "      <td>1</td>\n",
       "      <td>5</td>\n",
       "    </tr>\n",
       "    <tr>\n",
       "      <th>...</th>\n",
       "      <td>...</td>\n",
       "      <td>...</td>\n",
       "      <td>...</td>\n",
       "      <td>...</td>\n",
       "      <td>...</td>\n",
       "      <td>...</td>\n",
       "      <td>...</td>\n",
       "    </tr>\n",
       "    <tr>\n",
       "      <th>360</th>\n",
       "      <td>74</td>\n",
       "      <td>2018-12-27</td>\n",
       "      <td>2.26</td>\n",
       "      <td>1.90</td>\n",
       "      <td>0</td>\n",
       "      <td>12</td>\n",
       "      <td>27</td>\n",
       "    </tr>\n",
       "    <tr>\n",
       "      <th>361</th>\n",
       "      <td>74</td>\n",
       "      <td>2018-12-28</td>\n",
       "      <td>2.27</td>\n",
       "      <td>1.90</td>\n",
       "      <td>0</td>\n",
       "      <td>12</td>\n",
       "      <td>28</td>\n",
       "    </tr>\n",
       "    <tr>\n",
       "      <th>362</th>\n",
       "      <td>74</td>\n",
       "      <td>2018-12-29</td>\n",
       "      <td>2.28</td>\n",
       "      <td>1.89</td>\n",
       "      <td>0</td>\n",
       "      <td>12</td>\n",
       "      <td>29</td>\n",
       "    </tr>\n",
       "    <tr>\n",
       "      <th>363</th>\n",
       "      <td>74</td>\n",
       "      <td>2018-12-30</td>\n",
       "      <td>2.30</td>\n",
       "      <td>1.90</td>\n",
       "      <td>0</td>\n",
       "      <td>12</td>\n",
       "      <td>30</td>\n",
       "    </tr>\n",
       "    <tr>\n",
       "      <th>364</th>\n",
       "      <td>74</td>\n",
       "      <td>2018-12-31</td>\n",
       "      <td>2.35</td>\n",
       "      <td>1.90</td>\n",
       "      <td>0</td>\n",
       "      <td>12</td>\n",
       "      <td>31</td>\n",
       "    </tr>\n",
       "  </tbody>\n",
       "</table>\n",
       "<p>365 rows × 7 columns</p>\n",
       "</div>"
      ],
      "text/plain": [
       "     STATIONID   DATETIME  High   Low  Hour  Month  Day\n",
       "0           74 2018-01-01  2.40  2.11     0      1    1\n",
       "1           74 2018-01-02  2.45  2.10     0      1    2\n",
       "2           74 2018-01-03  2.46  2.10     0      1    3\n",
       "3           74 2018-01-04  2.49  2.08     0      1    4\n",
       "4           74 2018-01-05  2.49  2.08     0      1    5\n",
       "..         ...        ...   ...   ...   ...    ...  ...\n",
       "360         74 2018-12-27  2.26  1.90     0     12   27\n",
       "361         74 2018-12-28  2.27  1.90     0     12   28\n",
       "362         74 2018-12-29  2.28  1.89     0     12   29\n",
       "363         74 2018-12-30  2.30  1.90     0     12   30\n",
       "364         74 2018-12-31  2.35  1.90     0     12   31\n",
       "\n",
       "[365 rows x 7 columns]"
      ]
     },
     "execution_count": 14,
     "metadata": {},
     "output_type": "execute_result"
    }
   ],
   "source": [
    "data_flt"
   ]
  },
  {
   "cell_type": "code",
   "execution_count": 15,
   "metadata": {},
   "outputs": [
    {
     "data": {
      "text/plain": [
       "[<matplotlib.lines.Line2D at 0x16f5caebac0>]"
      ]
     },
     "execution_count": 15,
     "metadata": {},
     "output_type": "execute_result"
    },
    {
     "data": {
      "image/png": "[encoded data removed]",
      "text/plain": [
       "<Figure size 720x504 with 1 Axes>"
      ]
     },
     "metadata": {
      "needs_background": "light"
     },
     "output_type": "display_data"
    }
   ],
   "source": [
    "fig = plt.figure(figsize=(10,7))\n",
    "ax = fig.add_subplot(1,1,1)\n",
    "ax.plot(data_flt['DATETIME'], data_flt['High'], lw=1)\n",
    "ax.plot(data_flt['DATETIME'], data_flt['Low'], lw=1)"
   ]
  },
  {
   "cell_type": "code",
   "execution_count": 16,
   "metadata": {},
   "outputs": [
    {
     "data": {
      "text/html": [
       "<div>\n",
       "<style scoped>\n",
       "    .dataframe tbody tr th:only-of-type {\n",
       "        vertical-align: middle;\n",
       "    }\n",
       "\n",
       "    .dataframe tbody tr th {\n",
       "        vertical-align: top;\n",
       "    }\n",
       "\n",
       "    .dataframe thead th {\n",
       "        text-align: right;\n",
       "    }\n",
       "</style>\n",
       "<table border=\"1\" class=\"dataframe\">\n",
       "  <thead>\n",
       "    <tr style=\"text-align: right;\">\n",
       "      <th></th>\n",
       "      <th>STATIONID</th>\n",
       "      <th>DATETIME</th>\n",
       "      <th>High</th>\n",
       "      <th>Low</th>\n",
       "      <th>Hour</th>\n",
       "      <th>Month</th>\n",
       "      <th>Day</th>\n",
       "    </tr>\n",
       "  </thead>\n",
       "  <tbody>\n",
       "    <tr>\n",
       "      <th>0</th>\n",
       "      <td>74</td>\n",
       "      <td>2018-01-01</td>\n",
       "      <td>2.40</td>\n",
       "      <td>2.11</td>\n",
       "      <td>0</td>\n",
       "      <td>1</td>\n",
       "      <td>1</td>\n",
       "    </tr>\n",
       "    <tr>\n",
       "      <th>1</th>\n",
       "      <td>74</td>\n",
       "      <td>2018-01-02</td>\n",
       "      <td>2.45</td>\n",
       "      <td>2.10</td>\n",
       "      <td>0</td>\n",
       "      <td>1</td>\n",
       "      <td>2</td>\n",
       "    </tr>\n",
       "    <tr>\n",
       "      <th>2</th>\n",
       "      <td>74</td>\n",
       "      <td>2018-01-03</td>\n",
       "      <td>2.46</td>\n",
       "      <td>2.10</td>\n",
       "      <td>0</td>\n",
       "      <td>1</td>\n",
       "      <td>3</td>\n",
       "    </tr>\n",
       "    <tr>\n",
       "      <th>3</th>\n",
       "      <td>74</td>\n",
       "      <td>2018-01-04</td>\n",
       "      <td>2.49</td>\n",
       "      <td>2.08</td>\n",
       "      <td>0</td>\n",
       "      <td>1</td>\n",
       "      <td>4</td>\n",
       "    </tr>\n",
       "    <tr>\n",
       "      <th>4</th>\n",
       "      <td>74</td>\n",
       "      <td>2018-01-05</td>\n",
       "      <td>2.49</td>\n",
       "      <td>2.08</td>\n",
       "      <td>0</td>\n",
       "      <td>1</td>\n",
       "      <td>5</td>\n",
       "    </tr>\n",
       "  </tbody>\n",
       "</table>\n",
       "</div>"
      ],
      "text/plain": [
       "   STATIONID   DATETIME  High   Low  Hour  Month  Day\n",
       "0         74 2018-01-01  2.40  2.11     0      1    1\n",
       "1         74 2018-01-02  2.45  2.10     0      1    2\n",
       "2         74 2018-01-03  2.46  2.10     0      1    3\n",
       "3         74 2018-01-04  2.49  2.08     0      1    4\n",
       "4         74 2018-01-05  2.49  2.08     0      1    5"
      ]
     },
     "execution_count": 16,
     "metadata": {},
     "output_type": "execute_result"
    }
   ],
   "source": [
    "data_flt.head()"
   ]
  },
  {
   "cell_type": "code",
   "execution_count": 17,
   "metadata": {},
   "outputs": [],
   "source": [
    "phaseData = pd.DataFrame({\n",
    "    'DateTime':pd.date_range(start='1/1/2018', end='12/31/2018', freq='1H')})"
   ]
  },
  {
   "cell_type": "code",
   "execution_count": 18,
   "metadata": {},
   "outputs": [],
   "source": [
    "phaseData['Hour'] = phaseData.apply(lambda x: x['DateTime'].hour, axis=1)\n",
    "phaseData['Month'] = phaseData.apply(lambda x: x['DateTime'].month, axis=1)\n",
    "phaseData['Day'] = phaseData.apply(lambda x: x['DateTime'].day, axis=1)"
   ]
  },
  {
   "cell_type": "code",
   "execution_count": 19,
   "metadata": {
    "scrolled": true
   },
   "outputs": [],
   "source": [
    "phaseData['radian'] = phaseData.apply(lambda x: x['Hour']*2*np.pi/12, axis=1)\n",
    "phaseData['High'] = np.nan\n",
    "phaseData['Low'] = np.nan\n",
    "#phaseData.iloc[20:40]"
   ]
  },
  {
   "cell_type": "code",
   "execution_count": 20,
   "metadata": {},
   "outputs": [],
   "source": [
    "for idx, row in phaseData.iterrows():\n",
    "    dtst = data_flt[(data_flt['Month']==row['Month'])&(data_flt['Day']==row['Day'])]\n",
    "    hvl = dtst['High'].to_list()[0]\n",
    "    lvl = dtst['Low'].to_list()[0]\n",
    "    phaseData.loc[idx, 'High'] = hvl\n",
    "    phaseData.loc[idx, 'Low'] = lvl\n",
    "    #print(dtst['High'].to_list()[0], dtst['Low'].to_list()[0])"
   ]
  },
  {
   "cell_type": "code",
   "execution_count": 21,
   "metadata": {},
   "outputs": [],
   "source": [
    "phaseData['avg'] = phaseData.apply(lambda x: (x['High']+x['Low'])/2, axis=1)"
   ]
  },
  {
   "cell_type": "code",
   "execution_count": 22,
   "metadata": {},
   "outputs": [],
   "source": [
    "phaseData['dataGen'] = phaseData.apply(lambda x: (0.5*(x['High']-x['Low'])*np.sin(x['radian']))+x['avg'], axis=1)\n",
    "#phaseData['dataGen'] = phaseData.apply(lambda x: (0.5*(x['High']-x['Low'])*np.sin(x['radian']))+x['avg'], axis=1)\n",
    "phaseData['sinData'] = phaseData.apply(lambda x: np.sin(x['radian']), axis=1)"
   ]
  },
  {
   "cell_type": "code",
   "execution_count": 23,
   "metadata": {},
   "outputs": [
    {
     "data": {
      "text/plain": [
       "[<matplotlib.lines.Line2D at 0x16f5d605460>]"
      ]
     },
     "execution_count": 23,
     "metadata": {},
     "output_type": "execute_result"
    },
    {
     "data": {
      "image/png": "[encoded data removed]",
      "text/plain": [
       "<Figure size 720x504 with 1 Axes>"
      ]
     },
     "metadata": {
      "needs_background": "light"
     },
     "output_type": "display_data"
    }
   ],
   "source": [
    "fig = plt.figure(figsize=(10,7))\n",
    "ax = fig.add_subplot(1,1,1)\n",
    "ran = 100\n",
    "#ax.plot(phaseData['DateTime'].iloc[:ran],phaseData['sinData'].iloc[:ran])\n",
    "ax.plot(phaseData['DateTime'].iloc[:ran],phaseData['dataGen'].iloc[:ran])\n",
    "ax.plot(phaseData['DateTime'].iloc[:ran],phaseData['High'].iloc[:ran])\n",
    "ax.plot(phaseData['DateTime'].iloc[:ran],phaseData['Low'].iloc[:ran])"
   ]
  },
  {
   "cell_type": "code",
   "execution_count": 24,
   "metadata": {},
   "outputs": [
    {
     "data": {
      "text/html": [
       "<div>\n",
       "<style scoped>\n",
       "    .dataframe tbody tr th:only-of-type {\n",
       "        vertical-align: middle;\n",
       "    }\n",
       "\n",
       "    .dataframe tbody tr th {\n",
       "        vertical-align: top;\n",
       "    }\n",
       "\n",
       "    .dataframe thead th {\n",
       "        text-align: right;\n",
       "    }\n",
       "</style>\n",
       "<table border=\"1\" class=\"dataframe\">\n",
       "  <thead>\n",
       "    <tr style=\"text-align: right;\">\n",
       "      <th></th>\n",
       "      <th>DateTime</th>\n",
       "      <th>Hour</th>\n",
       "      <th>Month</th>\n",
       "      <th>Day</th>\n",
       "      <th>radian</th>\n",
       "      <th>High</th>\n",
       "      <th>Low</th>\n",
       "      <th>avg</th>\n",
       "      <th>dataGen</th>\n",
       "      <th>sinData</th>\n",
       "    </tr>\n",
       "  </thead>\n",
       "  <tbody>\n",
       "    <tr>\n",
       "      <th>0</th>\n",
       "      <td>2018-01-01 00:00:00</td>\n",
       "      <td>0</td>\n",
       "      <td>1</td>\n",
       "      <td>1</td>\n",
       "      <td>0.000000</td>\n",
       "      <td>2.40</td>\n",
       "      <td>2.11</td>\n",
       "      <td>2.255</td>\n",
       "      <td>2.255000</td>\n",
       "      <td>0.000000</td>\n",
       "    </tr>\n",
       "    <tr>\n",
       "      <th>1</th>\n",
       "      <td>2018-01-01 01:00:00</td>\n",
       "      <td>1</td>\n",
       "      <td>1</td>\n",
       "      <td>1</td>\n",
       "      <td>0.523599</td>\n",
       "      <td>2.40</td>\n",
       "      <td>2.11</td>\n",
       "      <td>2.255</td>\n",
       "      <td>2.327500</td>\n",
       "      <td>0.500000</td>\n",
       "    </tr>\n",
       "    <tr>\n",
       "      <th>2</th>\n",
       "      <td>2018-01-01 02:00:00</td>\n",
       "      <td>2</td>\n",
       "      <td>1</td>\n",
       "      <td>1</td>\n",
       "      <td>1.047198</td>\n",
       "      <td>2.40</td>\n",
       "      <td>2.11</td>\n",
       "      <td>2.255</td>\n",
       "      <td>2.380574</td>\n",
       "      <td>0.866025</td>\n",
       "    </tr>\n",
       "    <tr>\n",
       "      <th>3</th>\n",
       "      <td>2018-01-01 03:00:00</td>\n",
       "      <td>3</td>\n",
       "      <td>1</td>\n",
       "      <td>1</td>\n",
       "      <td>1.570796</td>\n",
       "      <td>2.40</td>\n",
       "      <td>2.11</td>\n",
       "      <td>2.255</td>\n",
       "      <td>2.400000</td>\n",
       "      <td>1.000000</td>\n",
       "    </tr>\n",
       "    <tr>\n",
       "      <th>4</th>\n",
       "      <td>2018-01-01 04:00:00</td>\n",
       "      <td>4</td>\n",
       "      <td>1</td>\n",
       "      <td>1</td>\n",
       "      <td>2.094395</td>\n",
       "      <td>2.40</td>\n",
       "      <td>2.11</td>\n",
       "      <td>2.255</td>\n",
       "      <td>2.380574</td>\n",
       "      <td>0.866025</td>\n",
       "    </tr>\n",
       "    <tr>\n",
       "      <th>...</th>\n",
       "      <td>...</td>\n",
       "      <td>...</td>\n",
       "      <td>...</td>\n",
       "      <td>...</td>\n",
       "      <td>...</td>\n",
       "      <td>...</td>\n",
       "      <td>...</td>\n",
       "      <td>...</td>\n",
       "      <td>...</td>\n",
       "      <td>...</td>\n",
       "    </tr>\n",
       "    <tr>\n",
       "      <th>8732</th>\n",
       "      <td>2018-12-30 20:00:00</td>\n",
       "      <td>20</td>\n",
       "      <td>12</td>\n",
       "      <td>30</td>\n",
       "      <td>10.471976</td>\n",
       "      <td>2.30</td>\n",
       "      <td>1.90</td>\n",
       "      <td>2.100</td>\n",
       "      <td>1.926795</td>\n",
       "      <td>-0.866025</td>\n",
       "    </tr>\n",
       "    <tr>\n",
       "      <th>8733</th>\n",
       "      <td>2018-12-30 21:00:00</td>\n",
       "      <td>21</td>\n",
       "      <td>12</td>\n",
       "      <td>30</td>\n",
       "      <td>10.995574</td>\n",
       "      <td>2.30</td>\n",
       "      <td>1.90</td>\n",
       "      <td>2.100</td>\n",
       "      <td>1.900000</td>\n",
       "      <td>-1.000000</td>\n",
       "    </tr>\n",
       "    <tr>\n",
       "      <th>8734</th>\n",
       "      <td>2018-12-30 22:00:00</td>\n",
       "      <td>22</td>\n",
       "      <td>12</td>\n",
       "      <td>30</td>\n",
       "      <td>11.519173</td>\n",
       "      <td>2.30</td>\n",
       "      <td>1.90</td>\n",
       "      <td>2.100</td>\n",
       "      <td>1.926795</td>\n",
       "      <td>-0.866025</td>\n",
       "    </tr>\n",
       "    <tr>\n",
       "      <th>8735</th>\n",
       "      <td>2018-12-30 23:00:00</td>\n",
       "      <td>23</td>\n",
       "      <td>12</td>\n",
       "      <td>30</td>\n",
       "      <td>12.042772</td>\n",
       "      <td>2.30</td>\n",
       "      <td>1.90</td>\n",
       "      <td>2.100</td>\n",
       "      <td>2.000000</td>\n",
       "      <td>-0.500000</td>\n",
       "    </tr>\n",
       "    <tr>\n",
       "      <th>8736</th>\n",
       "      <td>2018-12-31 00:00:00</td>\n",
       "      <td>0</td>\n",
       "      <td>12</td>\n",
       "      <td>31</td>\n",
       "      <td>0.000000</td>\n",
       "      <td>2.35</td>\n",
       "      <td>1.90</td>\n",
       "      <td>2.125</td>\n",
       "      <td>2.125000</td>\n",
       "      <td>0.000000</td>\n",
       "    </tr>\n",
       "  </tbody>\n",
       "</table>\n",
       "<p>8737 rows × 10 columns</p>\n",
       "</div>"
      ],
      "text/plain": [
       "                DateTime  Hour  Month  Day     radian  High   Low    avg  \\\n",
       "0    2018-01-01 00:00:00     0      1    1   0.000000  2.40  2.11  2.255   \n",
       "1    2018-01-01 01:00:00     1      1    1   0.523599  2.40  2.11  2.255   \n",
       "2    2018-01-01 02:00:00     2      1    1   1.047198  2.40  2.11  2.255   \n",
       "3    2018-01-01 03:00:00     3      1    1   1.570796  2.40  2.11  2.255   \n",
       "4    2018-01-01 04:00:00     4      1    1   2.094395  2.40  2.11  2.255   \n",
       "...                  ...   ...    ...  ...        ...   ...   ...    ...   \n",
       "8732 2018-12-30 20:00:00    20     12   30  10.471976  2.30  1.90  2.100   \n",
       "8733 2018-12-30 21:00:00    21     12   30  10.995574  2.30  1.90  2.100   \n",
       "8734 2018-12-30 22:00:00    22     12   30  11.519173  2.30  1.90  2.100   \n",
       "8735 2018-12-30 23:00:00    23     12   30  12.042772  2.30  1.90  2.100   \n",
       "8736 2018-12-31 00:00:00     0     12   31   0.000000  2.35  1.90  2.125   \n",
       "\n",
       "       dataGen   sinData  \n",
       "0     2.255000  0.000000  \n",
       "1     2.327500  0.500000  \n",
       "2     2.380574  0.866025  \n",
       "3     2.400000  1.000000  \n",
       "4     2.380574  0.866025  \n",
       "...        ...       ...  \n",
       "8732  1.926795 -0.866025  \n",
       "8733  1.900000 -1.000000  \n",
       "8734  1.926795 -0.866025  \n",
       "8735  2.000000 -0.500000  \n",
       "8736  2.125000  0.000000  \n",
       "\n",
       "[8737 rows x 10 columns]"
      ]
     },
     "execution_count": 24,
     "metadata": {},
     "output_type": "execute_result"
    }
   ],
   "source": [
    "phaseData"
   ]
  },
  {
   "cell_type": "code",
   "execution_count": 56,
   "metadata": {},
   "outputs": [],
   "source": [
    "phaseData.to_excel(r\"D:\\CEGIS PROJECT\\DWASA_masterplan_meghna\\data\\Hydrology Wasa\\rawdata\\genHourlyDilalpur.xlsx\")"
   ]
  },
  {
   "cell_type": "code",
   "execution_count": null,
   "metadata": {},
   "outputs": [],
   "source": []
  }
 ],
 "metadata": {
  "kernelspec": {
   "display_name": "Python 3 (ipykernel)",
   "language": "python",
   "name": "python3"
  },
  "language_info": {
   "codemirror_mode": {
    "name": "ipython",
    "version": 3
   },
   "file_extension": ".py",
   "mimetype": "text/x-python",
   "name": "python",
   "nbconvert_exporter": "python",
   "pygments_lexer": "ipython3",
   "version": "3.9.7"
  }
 },
 "nbformat": 4,
 "nbformat_minor": 4
}
